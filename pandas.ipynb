{
 "cells": [
  {
   "cell_type": "code",
   "execution_count": 1,
   "metadata": {},
   "outputs": [],
   "source": [
    "import pandas as pd\n",
    "import matplotlib.pyplot as plt\n"
   ]
  },
  {
   "cell_type": "code",
   "execution_count": 3,
   "metadata": {},
   "outputs": [],
   "source": [
    "arq = pd.read_csv(\"Netflix TV Shows and Movies.csv\") #faz a leitura do arquivo"
   ]
  },
  {
   "cell_type": "markdown",
   "metadata": {},
   "source": [
    "1 - Liste os 10 primeiros itens do dataset."
   ]
  },
  {
   "cell_type": "code",
   "execution_count": 6,
   "metadata": {},
   "outputs": [
    {
     "data": {
      "text/html": [
       "<div>\n",
       "<style scoped>\n",
       "    .dataframe tbody tr th:only-of-type {\n",
       "        vertical-align: middle;\n",
       "    }\n",
       "\n",
       "    .dataframe tbody tr th {\n",
       "        vertical-align: top;\n",
       "    }\n",
       "\n",
       "    .dataframe thead th {\n",
       "        text-align: right;\n",
       "    }\n",
       "</style>\n",
       "<table border=\"1\" class=\"dataframe\">\n",
       "  <thead>\n",
       "    <tr style=\"text-align: right;\">\n",
       "      <th></th>\n",
       "      <th>index</th>\n",
       "      <th>id</th>\n",
       "      <th>title</th>\n",
       "      <th>type</th>\n",
       "      <th>description</th>\n",
       "      <th>release_year</th>\n",
       "      <th>age_certification</th>\n",
       "      <th>runtime</th>\n",
       "      <th>imdb_id</th>\n",
       "      <th>imdb_score</th>\n",
       "      <th>imdb_votes</th>\n",
       "    </tr>\n",
       "  </thead>\n",
       "  <tbody>\n",
       "    <tr>\n",
       "      <th>0</th>\n",
       "      <td>0</td>\n",
       "      <td>tm84618</td>\n",
       "      <td>Taxi Driver</td>\n",
       "      <td>MOVIE</td>\n",
       "      <td>A mentally unstable Vietnam War veteran works ...</td>\n",
       "      <td>1976</td>\n",
       "      <td>R</td>\n",
       "      <td>113</td>\n",
       "      <td>tt0075314</td>\n",
       "      <td>8.3</td>\n",
       "      <td>795222.0</td>\n",
       "    </tr>\n",
       "    <tr>\n",
       "      <th>1</th>\n",
       "      <td>1</td>\n",
       "      <td>tm127384</td>\n",
       "      <td>Monty Python and the Holy Grail</td>\n",
       "      <td>MOVIE</td>\n",
       "      <td>King Arthur, accompanied by his squire, recrui...</td>\n",
       "      <td>1975</td>\n",
       "      <td>PG</td>\n",
       "      <td>91</td>\n",
       "      <td>tt0071853</td>\n",
       "      <td>8.2</td>\n",
       "      <td>530877.0</td>\n",
       "    </tr>\n",
       "    <tr>\n",
       "      <th>2</th>\n",
       "      <td>2</td>\n",
       "      <td>tm70993</td>\n",
       "      <td>Life of Brian</td>\n",
       "      <td>MOVIE</td>\n",
       "      <td>Brian Cohen is an average young Jewish man, bu...</td>\n",
       "      <td>1979</td>\n",
       "      <td>R</td>\n",
       "      <td>94</td>\n",
       "      <td>tt0079470</td>\n",
       "      <td>8.0</td>\n",
       "      <td>392419.0</td>\n",
       "    </tr>\n",
       "    <tr>\n",
       "      <th>3</th>\n",
       "      <td>3</td>\n",
       "      <td>tm190788</td>\n",
       "      <td>The Exorcist</td>\n",
       "      <td>MOVIE</td>\n",
       "      <td>12-year-old Regan MacNeil begins to adapt an e...</td>\n",
       "      <td>1973</td>\n",
       "      <td>R</td>\n",
       "      <td>133</td>\n",
       "      <td>tt0070047</td>\n",
       "      <td>8.1</td>\n",
       "      <td>391942.0</td>\n",
       "    </tr>\n",
       "    <tr>\n",
       "      <th>4</th>\n",
       "      <td>4</td>\n",
       "      <td>ts22164</td>\n",
       "      <td>Monty Python's Flying Circus</td>\n",
       "      <td>SHOW</td>\n",
       "      <td>A British sketch comedy series with the shows ...</td>\n",
       "      <td>1969</td>\n",
       "      <td>TV-14</td>\n",
       "      <td>30</td>\n",
       "      <td>tt0063929</td>\n",
       "      <td>8.8</td>\n",
       "      <td>72895.0</td>\n",
       "    </tr>\n",
       "    <tr>\n",
       "      <th>5</th>\n",
       "      <td>5</td>\n",
       "      <td>tm14873</td>\n",
       "      <td>Dirty Harry</td>\n",
       "      <td>MOVIE</td>\n",
       "      <td>When a madman dubbed 'Scorpio' terrorizes San ...</td>\n",
       "      <td>1971</td>\n",
       "      <td>R</td>\n",
       "      <td>102</td>\n",
       "      <td>tt0066999</td>\n",
       "      <td>7.7</td>\n",
       "      <td>153463.0</td>\n",
       "    </tr>\n",
       "    <tr>\n",
       "      <th>6</th>\n",
       "      <td>6</td>\n",
       "      <td>tm185072</td>\n",
       "      <td>My Fair Lady</td>\n",
       "      <td>MOVIE</td>\n",
       "      <td>A snobbish phonetics professor agrees to a wag...</td>\n",
       "      <td>1964</td>\n",
       "      <td>G</td>\n",
       "      <td>170</td>\n",
       "      <td>tt0058385</td>\n",
       "      <td>7.8</td>\n",
       "      <td>94121.0</td>\n",
       "    </tr>\n",
       "    <tr>\n",
       "      <th>7</th>\n",
       "      <td>7</td>\n",
       "      <td>tm98978</td>\n",
       "      <td>The Blue Lagoon</td>\n",
       "      <td>MOVIE</td>\n",
       "      <td>Two small children and a ship's cook survive a...</td>\n",
       "      <td>1980</td>\n",
       "      <td>R</td>\n",
       "      <td>104</td>\n",
       "      <td>tt0080453</td>\n",
       "      <td>5.8</td>\n",
       "      <td>69053.0</td>\n",
       "    </tr>\n",
       "    <tr>\n",
       "      <th>8</th>\n",
       "      <td>8</td>\n",
       "      <td>tm119281</td>\n",
       "      <td>Bonnie and Clyde</td>\n",
       "      <td>MOVIE</td>\n",
       "      <td>In the 1930s, bored waitress Bonnie Parker fal...</td>\n",
       "      <td>1967</td>\n",
       "      <td>R</td>\n",
       "      <td>110</td>\n",
       "      <td>tt0061418</td>\n",
       "      <td>7.7</td>\n",
       "      <td>111189.0</td>\n",
       "    </tr>\n",
       "    <tr>\n",
       "      <th>9</th>\n",
       "      <td>9</td>\n",
       "      <td>tm67378</td>\n",
       "      <td>The Professionals</td>\n",
       "      <td>MOVIE</td>\n",
       "      <td>An arrogant Texas millionaire hires four adven...</td>\n",
       "      <td>1966</td>\n",
       "      <td>PG-13</td>\n",
       "      <td>117</td>\n",
       "      <td>tt0060862</td>\n",
       "      <td>7.3</td>\n",
       "      <td>16168.0</td>\n",
       "    </tr>\n",
       "  </tbody>\n",
       "</table>\n",
       "</div>"
      ],
      "text/plain": [
       "   index        id                            title   type  \\\n",
       "0      0   tm84618                      Taxi Driver  MOVIE   \n",
       "1      1  tm127384  Monty Python and the Holy Grail  MOVIE   \n",
       "2      2   tm70993                    Life of Brian  MOVIE   \n",
       "3      3  tm190788                     The Exorcist  MOVIE   \n",
       "4      4   ts22164     Monty Python's Flying Circus   SHOW   \n",
       "5      5   tm14873                      Dirty Harry  MOVIE   \n",
       "6      6  tm185072                     My Fair Lady  MOVIE   \n",
       "7      7   tm98978                  The Blue Lagoon  MOVIE   \n",
       "8      8  tm119281                 Bonnie and Clyde  MOVIE   \n",
       "9      9   tm67378                The Professionals  MOVIE   \n",
       "\n",
       "                                         description  release_year  \\\n",
       "0  A mentally unstable Vietnam War veteran works ...          1976   \n",
       "1  King Arthur, accompanied by his squire, recrui...          1975   \n",
       "2  Brian Cohen is an average young Jewish man, bu...          1979   \n",
       "3  12-year-old Regan MacNeil begins to adapt an e...          1973   \n",
       "4  A British sketch comedy series with the shows ...          1969   \n",
       "5  When a madman dubbed 'Scorpio' terrorizes San ...          1971   \n",
       "6  A snobbish phonetics professor agrees to a wag...          1964   \n",
       "7  Two small children and a ship's cook survive a...          1980   \n",
       "8  In the 1930s, bored waitress Bonnie Parker fal...          1967   \n",
       "9  An arrogant Texas millionaire hires four adven...          1966   \n",
       "\n",
       "  age_certification  runtime    imdb_id  imdb_score  imdb_votes  \n",
       "0                 R      113  tt0075314         8.3    795222.0  \n",
       "1                PG       91  tt0071853         8.2    530877.0  \n",
       "2                 R       94  tt0079470         8.0    392419.0  \n",
       "3                 R      133  tt0070047         8.1    391942.0  \n",
       "4             TV-14       30  tt0063929         8.8     72895.0  \n",
       "5                 R      102  tt0066999         7.7    153463.0  \n",
       "6                 G      170  tt0058385         7.8     94121.0  \n",
       "7                 R      104  tt0080453         5.8     69053.0  \n",
       "8                 R      110  tt0061418         7.7    111189.0  \n",
       "9             PG-13      117  tt0060862         7.3     16168.0  "
      ]
     },
     "execution_count": 6,
     "metadata": {},
     "output_type": "execute_result"
    }
   ],
   "source": [
    "arq.head(10) "
   ]
  },
  {
   "cell_type": "markdown",
   "metadata": {},
   "source": [
    "2 - Liste os últimos 10 itens do dataset. "
   ]
  },
  {
   "cell_type": "code",
   "execution_count": 7,
   "metadata": {},
   "outputs": [
    {
     "data": {
      "text/html": [
       "<div>\n",
       "<style scoped>\n",
       "    .dataframe tbody tr th:only-of-type {\n",
       "        vertical-align: middle;\n",
       "    }\n",
       "\n",
       "    .dataframe tbody tr th {\n",
       "        vertical-align: top;\n",
       "    }\n",
       "\n",
       "    .dataframe thead th {\n",
       "        text-align: right;\n",
       "    }\n",
       "</style>\n",
       "<table border=\"1\" class=\"dataframe\">\n",
       "  <thead>\n",
       "    <tr style=\"text-align: right;\">\n",
       "      <th></th>\n",
       "      <th>index</th>\n",
       "      <th>id</th>\n",
       "      <th>title</th>\n",
       "      <th>type</th>\n",
       "      <th>description</th>\n",
       "      <th>release_year</th>\n",
       "      <th>age_certification</th>\n",
       "      <th>runtime</th>\n",
       "      <th>imdb_id</th>\n",
       "      <th>imdb_score</th>\n",
       "      <th>imdb_votes</th>\n",
       "    </tr>\n",
       "  </thead>\n",
       "  <tbody>\n",
       "    <tr>\n",
       "      <th>5273</th>\n",
       "      <td>5273</td>\n",
       "      <td>tm1097142</td>\n",
       "      <td>My Bride</td>\n",
       "      <td>MOVIE</td>\n",
       "      <td>The story follows a young man and woman who go...</td>\n",
       "      <td>2021</td>\n",
       "      <td>NaN</td>\n",
       "      <td>93</td>\n",
       "      <td>tt14216488</td>\n",
       "      <td>4.9</td>\n",
       "      <td>281.0</td>\n",
       "    </tr>\n",
       "    <tr>\n",
       "      <th>5274</th>\n",
       "      <td>5274</td>\n",
       "      <td>tm878575</td>\n",
       "      <td>The Heartbreak Club</td>\n",
       "      <td>MOVIE</td>\n",
       "      <td>Coping with heartbreak, the shy owner of floun...</td>\n",
       "      <td>2021</td>\n",
       "      <td>NaN</td>\n",
       "      <td>101</td>\n",
       "      <td>tt11841144</td>\n",
       "      <td>6.2</td>\n",
       "      <td>188.0</td>\n",
       "    </tr>\n",
       "    <tr>\n",
       "      <th>5275</th>\n",
       "      <td>5275</td>\n",
       "      <td>ts286386</td>\n",
       "      <td>The Big Day</td>\n",
       "      <td>SHOW</td>\n",
       "      <td>For six engaged couples, happily ever after be...</td>\n",
       "      <td>2021</td>\n",
       "      <td>TV-MA</td>\n",
       "      <td>45</td>\n",
       "      <td>tt13887518</td>\n",
       "      <td>4.6</td>\n",
       "      <td>327.0</td>\n",
       "    </tr>\n",
       "    <tr>\n",
       "      <th>5276</th>\n",
       "      <td>5276</td>\n",
       "      <td>tm985215</td>\n",
       "      <td>Princess 'Daya'Reese</td>\n",
       "      <td>MOVIE</td>\n",
       "      <td>Reese is a con artist from Manila who dreams o...</td>\n",
       "      <td>2021</td>\n",
       "      <td>NaN</td>\n",
       "      <td>115</td>\n",
       "      <td>tt13399802</td>\n",
       "      <td>7.2</td>\n",
       "      <td>45.0</td>\n",
       "    </tr>\n",
       "    <tr>\n",
       "      <th>5277</th>\n",
       "      <td>5277</td>\n",
       "      <td>tm1004011</td>\n",
       "      <td>Time to Dance</td>\n",
       "      <td>MOVIE</td>\n",
       "      <td>When a ballroom dancerâ€™s shot at a crucial t...</td>\n",
       "      <td>2021</td>\n",
       "      <td>NaN</td>\n",
       "      <td>107</td>\n",
       "      <td>tt8622232</td>\n",
       "      <td>2.2</td>\n",
       "      <td>950.0</td>\n",
       "    </tr>\n",
       "    <tr>\n",
       "      <th>5278</th>\n",
       "      <td>5278</td>\n",
       "      <td>tm1040816</td>\n",
       "      <td>Momshies! Your Soul is Mine</td>\n",
       "      <td>MOVIE</td>\n",
       "      <td>Three women with totally different lives accid...</td>\n",
       "      <td>2021</td>\n",
       "      <td>NaN</td>\n",
       "      <td>108</td>\n",
       "      <td>tt14412240</td>\n",
       "      <td>5.8</td>\n",
       "      <td>26.0</td>\n",
       "    </tr>\n",
       "    <tr>\n",
       "      <th>5279</th>\n",
       "      <td>5279</td>\n",
       "      <td>tm1014599</td>\n",
       "      <td>Fine Wine</td>\n",
       "      <td>MOVIE</td>\n",
       "      <td>A beautiful love story that can happen between...</td>\n",
       "      <td>2021</td>\n",
       "      <td>NaN</td>\n",
       "      <td>100</td>\n",
       "      <td>tt13857480</td>\n",
       "      <td>6.9</td>\n",
       "      <td>39.0</td>\n",
       "    </tr>\n",
       "    <tr>\n",
       "      <th>5280</th>\n",
       "      <td>5280</td>\n",
       "      <td>tm1045018</td>\n",
       "      <td>Clash</td>\n",
       "      <td>MOVIE</td>\n",
       "      <td>A man from Nigeria returns to his family in Ca...</td>\n",
       "      <td>2021</td>\n",
       "      <td>NaN</td>\n",
       "      <td>88</td>\n",
       "      <td>tt14620732</td>\n",
       "      <td>6.5</td>\n",
       "      <td>32.0</td>\n",
       "    </tr>\n",
       "    <tr>\n",
       "      <th>5281</th>\n",
       "      <td>5281</td>\n",
       "      <td>tm1098060</td>\n",
       "      <td>Shadow Parties</td>\n",
       "      <td>MOVIE</td>\n",
       "      <td>A family faces destruction in a long-running c...</td>\n",
       "      <td>2021</td>\n",
       "      <td>NaN</td>\n",
       "      <td>116</td>\n",
       "      <td>tt10168094</td>\n",
       "      <td>6.2</td>\n",
       "      <td>9.0</td>\n",
       "    </tr>\n",
       "    <tr>\n",
       "      <th>5282</th>\n",
       "      <td>5282</td>\n",
       "      <td>ts271048</td>\n",
       "      <td>Mighty Little Bheem: Kite Festival</td>\n",
       "      <td>SHOW</td>\n",
       "      <td>With winter behind them, Bheem and his townspe...</td>\n",
       "      <td>2021</td>\n",
       "      <td>NaN</td>\n",
       "      <td>0</td>\n",
       "      <td>tt13711094</td>\n",
       "      <td>8.8</td>\n",
       "      <td>16.0</td>\n",
       "    </tr>\n",
       "  </tbody>\n",
       "</table>\n",
       "</div>"
      ],
      "text/plain": [
       "      index         id                               title   type  \\\n",
       "5273   5273  tm1097142                            My Bride  MOVIE   \n",
       "5274   5274   tm878575                 The Heartbreak Club  MOVIE   \n",
       "5275   5275   ts286386                         The Big Day   SHOW   \n",
       "5276   5276   tm985215                Princess 'Daya'Reese  MOVIE   \n",
       "5277   5277  tm1004011                       Time to Dance  MOVIE   \n",
       "5278   5278  tm1040816         Momshies! Your Soul is Mine  MOVIE   \n",
       "5279   5279  tm1014599                           Fine Wine  MOVIE   \n",
       "5280   5280  tm1045018                               Clash  MOVIE   \n",
       "5281   5281  tm1098060                      Shadow Parties  MOVIE   \n",
       "5282   5282   ts271048  Mighty Little Bheem: Kite Festival   SHOW   \n",
       "\n",
       "                                            description  release_year  \\\n",
       "5273  The story follows a young man and woman who go...          2021   \n",
       "5274  Coping with heartbreak, the shy owner of floun...          2021   \n",
       "5275  For six engaged couples, happily ever after be...          2021   \n",
       "5276  Reese is a con artist from Manila who dreams o...          2021   \n",
       "5277  When a ballroom dancerâ€™s shot at a crucial t...          2021   \n",
       "5278  Three women with totally different lives accid...          2021   \n",
       "5279  A beautiful love story that can happen between...          2021   \n",
       "5280  A man from Nigeria returns to his family in Ca...          2021   \n",
       "5281  A family faces destruction in a long-running c...          2021   \n",
       "5282  With winter behind them, Bheem and his townspe...          2021   \n",
       "\n",
       "     age_certification  runtime     imdb_id  imdb_score  imdb_votes  \n",
       "5273               NaN       93  tt14216488         4.9       281.0  \n",
       "5274               NaN      101  tt11841144         6.2       188.0  \n",
       "5275             TV-MA       45  tt13887518         4.6       327.0  \n",
       "5276               NaN      115  tt13399802         7.2        45.0  \n",
       "5277               NaN      107   tt8622232         2.2       950.0  \n",
       "5278               NaN      108  tt14412240         5.8        26.0  \n",
       "5279               NaN      100  tt13857480         6.9        39.0  \n",
       "5280               NaN       88  tt14620732         6.5        32.0  \n",
       "5281               NaN      116  tt10168094         6.2         9.0  \n",
       "5282               NaN        0  tt13711094         8.8        16.0  "
      ]
     },
     "execution_count": 7,
     "metadata": {},
     "output_type": "execute_result"
    }
   ],
   "source": [
    "arq.tail(10)"
   ]
  },
  {
   "cell_type": "markdown",
   "metadata": {},
   "source": [
    "3 - Qual o filme com o maior imdb_score e qual o filme com o pior imdb_score? "
   ]
  },
  {
   "cell_type": "code",
   "execution_count": 9,
   "metadata": {},
   "outputs": [
    {
     "data": {
      "text/plain": [
       "index                                                              622\n",
       "id                                                            ts160526\n",
       "title                                                         Khawatir\n",
       "type                                                              SHOW\n",
       "description          A TV show devoted to help young people to be m...\n",
       "release_year                                                      2005\n",
       "age_certification                                                TV-14\n",
       "runtime                                                             20\n",
       "imdb_id                                                      tt3062514\n",
       "imdb_score                                                         9.6\n",
       "imdb_votes                                                      3046.0\n",
       "Name: 622, dtype: object"
      ]
     },
     "execution_count": 9,
     "metadata": {},
     "output_type": "execute_result"
    }
   ],
   "source": [
    "arq.loc[arq['imdb_score'].idxmax()] #localiza o filme com maior nota pelo id max\n"
   ]
  },
  {
   "cell_type": "code",
   "execution_count": 10,
   "metadata": {},
   "outputs": [
    {
     "data": {
      "text/plain": [
       "index                                                             1664\n",
       "id                                                            tm549892\n",
       "title                                                          Aerials\n",
       "type                                                             MOVIE\n",
       "description          Earth is invaded by Aliens from outer space. A...\n",
       "release_year                                                      2016\n",
       "age_certification                                                  NaN\n",
       "runtime                                                             90\n",
       "imdb_id                                                      tt5314138\n",
       "imdb_score                                                         1.5\n",
       "imdb_votes                                                       382.0\n",
       "Name: 1664, dtype: object"
      ]
     },
     "execution_count": 10,
     "metadata": {},
     "output_type": "execute_result"
    }
   ],
   "source": [
    "arq.loc[arq['imdb_score'].idxmin()] #localiza o filme com menor nota pelo id min "
   ]
  },
  {
   "cell_type": "markdown",
   "metadata": {},
   "source": [
    "4 - Qual a média de duração dos shows de TV e duração de filmes?"
   ]
  },
  {
   "cell_type": "code",
   "execution_count": 14,
   "metadata": {},
   "outputs": [
    {
     "name": "stdout",
     "output_type": "stream",
     "text": [
      "media de duração de filme:  101.53742295274435\n"
     ]
    }
   ],
   "source": [
    "print(\"media de duração de filme: \", arq[arq['type'] == 'MOVIE']['runtime'].mean()) #arq type seleciona os filmes, acessa runtime, e mean calcula a media"
   ]
  },
  {
   "cell_type": "code",
   "execution_count": 15,
   "metadata": {},
   "outputs": [
    {
     "name": "stdout",
     "output_type": "stream",
     "text": [
      "media de duração de show:  38.63272921108742\n"
     ]
    }
   ],
   "source": [
    "print(\"media de duração de show: \", arq[arq['type'] == 'SHOW']['runtime'].mean()) #arq type seleciona os show, acessa runtime, e mean calcula a media"
   ]
  },
  {
   "cell_type": "markdown",
   "metadata": {},
   "source": [
    "5 - Qual o show de TV com maior duração por episódio e o filme com duração mais longa?"
   ]
  },
  {
   "cell_type": "code",
   "execution_count": 25,
   "metadata": {},
   "outputs": [
    {
     "name": "stdout",
     "output_type": "stream",
     "text": [
      "Filme com maior duração:  index                                                               24\n",
      "id                                                             tm76557\n",
      "title                                                   No Longer Kids\n",
      "type                                                             MOVIE\n",
      "description          By coincidence, Ahmad discovers that his fathe...\n",
      "release_year                                                      1979\n",
      "age_certification                                                  NaN\n",
      "runtime                                                            235\n",
      "imdb_id                                                      tt8312792\n",
      "imdb_score                                                         9.0\n",
      "imdb_votes                                                       943.0\n",
      "Name: 24, dtype: object\n"
     ]
    }
   ],
   "source": [
    "print(\"Filme com maior duração: \", arq.loc[arq[arq['type'] == 'MOVIE']['runtime'].idxmax()])\n"
   ]
  },
  {
   "cell_type": "code",
   "execution_count": 24,
   "metadata": {},
   "outputs": [
    {
     "name": "stdout",
     "output_type": "stream",
     "text": [
      "Show com maior duração:  index                                                             3598\n",
      "id                                                             ts90995\n",
      "title                                                             1994\n",
      "type                                                              SHOW\n",
      "description          Archival video and new interviews examine Mexi...\n",
      "release_year                                                      2019\n",
      "age_certification                                                TV-MA\n",
      "runtime                                                            178\n",
      "imdb_id                                                     tt10243640\n",
      "imdb_score                                                         7.5\n",
      "imdb_votes                                                       514.0\n",
      "Name: 3598, dtype: object\n"
     ]
    }
   ],
   "source": [
    "print(\"Show com maior duração: \", arq.loc[arq[arq['type'] == 'SHOW']['runtime'].idxmax()])\n"
   ]
  },
  {
   "cell_type": "markdown",
   "metadata": {},
   "source": [
    "6 - Qual ano apresentou a maior quantidade de filmes avaliados com imdb?"
   ]
  },
  {
   "cell_type": "code",
   "execution_count": null,
   "metadata": {},
   "outputs": [],
   "source": []
  },
  {
   "cell_type": "markdown",
   "metadata": {},
   "source": [
    "7 - Quais as categorias encontradas de age_certification e qual a quantidade de filmes para cada categoria?"
   ]
  },
  {
   "cell_type": "code",
   "execution_count": null,
   "metadata": {},
   "outputs": [],
   "source": []
  },
  {
   "cell_type": "markdown",
   "metadata": {},
   "source": [
    "8 - Quais colunas apresentam campos vazios? Qual a quantidade de campos vazios?"
   ]
  },
  {
   "cell_type": "code",
   "execution_count": null,
   "metadata": {},
   "outputs": [],
   "source": []
  },
  {
   "cell_type": "markdown",
   "metadata": {},
   "source": [
    "9 - Gere um gráfico que você considere interessantes para apresentar a média de scores ao longo dos anos para filme e outro para shows."
   ]
  },
  {
   "cell_type": "code",
   "execution_count": null,
   "metadata": {},
   "outputs": [],
   "source": []
  },
  {
   "cell_type": "markdown",
   "metadata": {},
   "source": [
    "10 - Gere um gráfico que você considere interessante para apontar a proporção de votantes para shows e filmes."
   ]
  },
  {
   "cell_type": "code",
   "execution_count": null,
   "metadata": {},
   "outputs": [],
   "source": []
  }
 ],
 "metadata": {
  "kernelspec": {
   "display_name": "Python 3",
   "language": "python",
   "name": "python3"
  },
  "language_info": {
   "codemirror_mode": {
    "name": "ipython",
    "version": 3
   },
   "file_extension": ".py",
   "mimetype": "text/x-python",
   "name": "python",
   "nbconvert_exporter": "python",
   "pygments_lexer": "ipython3",
   "version": "3.12.5"
  }
 },
 "nbformat": 4,
 "nbformat_minor": 2
}
